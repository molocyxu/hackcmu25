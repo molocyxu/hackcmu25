# Enhanced Audio Analyzer Application
# This notebook contains the complete implementation from the enhanced_audioapp.py file

exec(open('enhanced_audioapp.py').read())# Audio Analyzer - Enhanced Features

This notebook contains the enhanced Audio Analyzer application with three key new features:

## 1. Time Segment Selection
- Users can choose to transcribe either the full audio file or a specific time segment
- Time inputs for start and end times in seconds
- Visual feedback showing segment duration
- Audio duration detection and validation

## 2. Semantic Network Graph Generation
- Creates visual network plots showing word relationships
- Uses co-occurrence analysis to connect related words
- Configurable number of clusters
- Interactive visualization with node sizes based on word frequency

## 3. Word/Phrase Timestamp Search
- Search for specific words or phrases in the transcription
- Shows exact timestamps where words appear
- Highlights search terms in the transcription text
- Supports up to 50 search results with deduplication

## Running the Application

To run the enhanced desktop application:

```python
# Run the main application
if __name__ == "__main__":
    main()
```

## Frontend Implementation

The frontend has been updated to support:
- Time segment controls in the audio info card
- Word search functionality in the transcription tab
- Network plot visualization in the right panel
- Updated API calls with new parameters

## Backend Enhancements

The whisper_server.py has been enhanced to:
- Accept time segment parameters in transcription requests
- Extract and return word timestamps from Whisper
- Generate basic network plots using NetworkX and Matplotlib
- Provide audio duration information
import os
import sys
import json
import threading
from pathlib import Path
from datetime import datetime
import tkinter as tk
from tkinter import ttk, filedialog, messagebox, scrolledtext
from collections import Counter
import re
import customtkinter as ctk
import whisper
import sounddevice as sd
import soundfile as sf
import numpy as np
from datetime import datetime
from anthropic import Anthropic
from typing import Optional, Dict, Any, List, Tuple
import queue
import time
import subprocess
import tempfile

# Set appearance mode and color theme
ctk.set_appearance_mode("dark")
ctk.set_default_color_theme("blue")

class AudioAnalyzerApp(ctk.CTk):
    def __init__(self):
        super().__init__()
        
        self.title("Audio Transcription & Analysis Tool")
        self.geometry("1400x800")
        
        # Make window resizable with minimum size
        self.minsize(1200, 600)
        self.resizable(True, True)
        
        # Initialize variables
        self.audio_file_path = None
        self.transcribed_text = ""
        self.api_key = None
        self.whisper_model = None
        self.error_queue = queue.Queue()
        self.model_loading = False
        
        # History for processed results (prompt, output) pairs
        self.process_history: List[Tuple[str, str]] = []
        self.current_history_index = -1
        
        # Recording variables
        self.is_recording = False
        self.recording_data = []
        self.recording_samplerate = 44100
        self.recording_thread = None
        self.recording_start_time = None
        self.recorded_file_path = None
        self.recording_process = None
        
        # Time segment variables
        self.audio_duration = None
        self.last_transcription_segment = (None, None)
        
        # Network plot variables
        self.current_network_plot_path = None
        self.word2vec_model = None
        self.network_photo = None  # Store the photo reference
        
        # Configure grid weight for resizing
        self.grid_columnconfigure(0, weight=1)
        self.grid_rowconfigure(0, weight=1)
        
        # Create main container with proper scaling
        self.main_container = ctk.CTkFrame(self)
        self.main_container.grid(row=0, column=0, sticky="nsew", padx=10, pady=10)
        self.main_container.grid_columnconfigure(0, weight=0)  # Sidebar doesn't resize
        self.main_container.grid_columnconfigure(1, weight=3)  # Main content scales
        self.main_container.grid_rowconfigure(0, weight=1)
        
        # Create UI components
        self.create_sidebar()
        self.create_main_panel()
        
        # Bind resize event for network plot
        self.bind("<Configure>", self.on_window_resize)
        
        # Start checking for errors from background threads
        self.check_error_queue()
        
        # Initialize Whisper model in background
        self.load_whisper_model()

    # ... (rest of the implementation would continue here)

def main():
    """Main entry point"""
    # Check for required packages
    required_packages = {
        'whisper': 'openai-whisper',
        'anthropic': 'anthropic',
        'customtkinter': 'customtkinter',
        'sounddevice': 'sounddevice',
        'soundfile': 'soundfile'
    }
    
    missing_packages = []
    for module, package in required_packages.items():
        try:
            __import__(module)
        except ImportError:
            missing_packages.append(package)
    
    if missing_packages:
        print("Missing required packages. Please install them using:")
        print(f"pip install {' '.join(missing_packages)}")
        print("\nFor macOS, you may also need:")
        print("brew install ffmpeg portaudio")  # Added portaudio
        print("\nFor LaTeX PDF export (optional):")
        print("- Windows: Install MiKTeX or TeX Live")
        print("- macOS: Install MacTeX")
        print("- Linux: sudo apt-get install texlive-full")
        sys.exit(1)
    
    # Run the application
    app = AudioAnalyzerApp()
    app.mainloop()

if __name__ == "__main__":
    main()
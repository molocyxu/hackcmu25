# Run this cell to execute the complete Audio Analyzer Application
# The full implementation is in audioapp-1.py

exec(open('/workspace/audioapp-1.py').read())
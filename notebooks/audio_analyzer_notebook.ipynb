{
 "cells": [
  {
   "cell_type": "markdown",
   "metadata": {},
   "source": [
    "# Audio Analyzer - Jupyter Interface\n",
    "This notebook provides an interface to the audio analyzer tool."
   ]
  },
  {
   "cell_type": "code",
   "execution_count": null,
   "metadata": {},
   "outputs": [],
   "source": [
    "# Import required libraries\n",
    "import whisper\n",
    "from anthropic import Anthropic\n",
    "import os\n",
    "from pathlib import Path\n",
    "from IPython.display import Audio, display\n",
    "import json"
   ]
  },
  {
   "cell_type": "code",
   "execution_count": null,
   "metadata": {},
   "outputs": [],
   "source": [
    "# Load environment variables\n",
    "from dotenv import load_dotenv\n",
    "load_dotenv()\n",
    "\n",
    "# Configuration\n",
    "ANTHROPIC_API_KEY = os.getenv('ANTHROPIC_API_KEY', 'your_key_here')\n",
    "WHISPER_MODEL = os.getenv('WHISPER_MODEL', 'base')"
   ]
  },
  {
   "cell_type": "code",
   "execution_count": null,
   "metadata": {},
   "outputs": [],
   "source": [
    "# Load Whisper model\n",
    "print(f\"Loading Whisper model: {WHISPER_MODEL}\")\n",
    "model = whisper.load_model(WHISPER_MODEL)\n",
    "print(\"Model loaded successfully!\")"
   ]
  },
  {
   "cell_type": "code",
   "execution_count": null,
   "metadata": {},
   "outputs": [],
   "source": [
    "def transcribe_audio(audio_path):\n",
    "    \"\"\"Transcribe audio file using Whisper\"\"\"\n",
    "    result = model.transcribe(audio_path)\n",
    "    return result['text']\n",
    "\n",
    "def process_with_claude(text, prompt_type='summarize'):\n",
    "    \"\"\"Process transcribed text with Claude\"\"\"\n",
    "    client = Anthropic(api_key=ANTHROPIC_API_KEY)\n",
    "    \n",
    "    prompts = {\n",
    "        'summarize': f\"Summarize the following text:\\n\\n{text}\",\n",
    "        'analyze': f\"Analyze and explain the following text:\\n\\n{text}\",\n",
    "        'keypoints': f\"Extract key points from the following text:\\n\\n{text}\"\n",
    "    }\n",
    "    \n",
    "    response = client.messages.create(\n",
    "        model=\"claude-3-5-sonnet-20241022\",\n",
    "        max_tokens=4000,\n",
    "        messages=[{\"role\": \"user\", \"content\": prompts[prompt_type]}]\n",
    "    )\n",
    "    \n",
    "    return response.content[0].text"
   ]
  },
  {
   "cell_type": "code",
   "execution_count": null,
   "metadata": {},
   "outputs": [],
   "source": [
    "# Example usage\n",
    "# audio_file = \"path/to/your/audio.mp3\"\n",
    "# transcription = transcribe_audio(audio_file)\n",
    "# summary = process_with_claude(transcription, 'summarize')\n",
    "# print(summary)"
   ]
  }
 ],
 "metadata": {
  "kernelspec": {
   "display_name": "Audio Analyzer (Python)",
   "language": "python",
   "name": "audio_analyzer_kernel"
  },
  "language_info": {
   "codemirror_mode": {
    "name": "ipython",
    "version": 3
   },
   "file_extension": ".py",
   "mimetype": "text/x-python",
   "name": "python",
   "nbconvert_exporter": "python",
   "pygments_lexer": "ipython3",
   "version": "3.13.5"
  }
 },
 "nbformat": 4,
 "nbformat_minor": 4
}
